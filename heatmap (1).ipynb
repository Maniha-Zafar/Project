{
 "cells": [
  {
   "cell_type": "code",
   "execution_count": 277,
   "metadata": {},
   "outputs": [],
   "source": [
    "#%pip install seaborn"
   ]
  },
  {
   "cell_type": "code",
   "execution_count": 278,
   "metadata": {},
   "outputs": [
    {
     "name": "stdout",
     "output_type": "stream",
     "text": [
      "assignment1.ipynb\n",
      "BloomFilter.ipynb\n",
      "CWB_2021.xlsx\n",
      "heatmap.ipynb\n",
      "lesson4.ipynb\n",
      "WorkAssignmentTemplate.ipynb\n",
      "~$CWB_2021.xlsx\n"
     ]
    }
   ],
   "source": [
    "import pandas as pd\n",
    "import os\n",
    "import seaborn as sns\n",
    "import matplotlib.pyplot as plt\n",
    "import numpy as np\n",
    "\n",
    "CDIR = r\"C:\\Users\\ppico\\OneDrive\\Ambiente de Trabalho\\UA - Mestrado\\Técnicas Matemáticas para Big Data\"\n",
    "\n",
    "os.chdir(CDIR)\n",
    "for ff in os.listdir():\n",
    "    print(ff)"
   ]
  },
  {
   "cell_type": "code",
   "execution_count": 279,
   "metadata": {},
   "outputs": [
    {
     "name": "stdout",
     "output_type": "stream",
     "text": [
      "<class 'pandas.core.frame.DataFrame'>\n",
      "RangeIndex: 5161 entries, 0 to 5160\n",
      "Data columns (total 9 columns):\n",
      " #   Column                      Non-Null Count  Dtype  \n",
      "---  ------                      --------------  -----  \n",
      " 0   CSD Code 2021               5161 non-null   int64  \n",
      " 1   CSD Name 2021               5161 non-null   object \n",
      " 2   Census Population 2021      5098 non-null   float64\n",
      " 3   Income 2021                 3615 non-null   float64\n",
      " 4   Education 2021              3615 non-null   float64\n",
      " 5   Housing 2021                3615 non-null   float64\n",
      " 6   Labour Force Activity 2021  3615 non-null   float64\n",
      " 7   CWB 2021                    4382 non-null   float64\n",
      " 8   Community Type 2021         5161 non-null   object \n",
      "dtypes: float64(6), int64(1), object(2)\n",
      "memory usage: 363.0+ KB\n"
     ]
    }
   ],
   "source": [
    "dfrow = pd.read_excel(\"CWB_2021.xlsx\")\n",
    "dfrow.info()\n"
   ]
  },
  {
   "cell_type": "code",
   "execution_count": 280,
   "metadata": {},
   "outputs": [],
   "source": [
    "dfrow.drop(columns=['Community Type 2021','CSD Code 2021','CSD Name 2021','Census Population 2021'], inplace=True)"
   ]
  },
  {
   "cell_type": "code",
   "execution_count": 281,
   "metadata": {},
   "outputs": [
    {
     "name": "stdout",
     "output_type": "stream",
     "text": [
      "(5161, 5)\n",
      "(3615, 5)\n"
     ]
    },
    {
     "data": {
      "text/html": [
       "<div>\n",
       "<style scoped>\n",
       "    .dataframe tbody tr th:only-of-type {\n",
       "        vertical-align: middle;\n",
       "    }\n",
       "\n",
       "    .dataframe tbody tr th {\n",
       "        vertical-align: top;\n",
       "    }\n",
       "\n",
       "    .dataframe thead th {\n",
       "        text-align: right;\n",
       "    }\n",
       "</style>\n",
       "<table border=\"1\" class=\"dataframe\">\n",
       "  <thead>\n",
       "    <tr style=\"text-align: right;\">\n",
       "      <th></th>\n",
       "      <th>Income 2021</th>\n",
       "      <th>Education 2021</th>\n",
       "      <th>Housing 2021</th>\n",
       "      <th>Labour Force Activity 2021</th>\n",
       "      <th>CWB 2021</th>\n",
       "    </tr>\n",
       "  </thead>\n",
       "  <tbody>\n",
       "    <tr>\n",
       "      <th>2</th>\n",
       "      <td>76.0</td>\n",
       "      <td>48.0</td>\n",
       "      <td>97.0</td>\n",
       "      <td>70.0</td>\n",
       "      <td>73.0</td>\n",
       "    </tr>\n",
       "    <tr>\n",
       "      <th>4</th>\n",
       "      <td>81.0</td>\n",
       "      <td>63.0</td>\n",
       "      <td>98.0</td>\n",
       "      <td>77.0</td>\n",
       "      <td>80.0</td>\n",
       "    </tr>\n",
       "    <tr>\n",
       "      <th>5</th>\n",
       "      <td>78.0</td>\n",
       "      <td>57.0</td>\n",
       "      <td>97.0</td>\n",
       "      <td>74.0</td>\n",
       "      <td>77.0</td>\n",
       "    </tr>\n",
       "  </tbody>\n",
       "</table>\n",
       "</div>"
      ],
      "text/plain": [
       "   Income 2021  Education 2021  Housing 2021  Labour Force Activity 2021  \\\n",
       "2         76.0            48.0          97.0                        70.0   \n",
       "4         81.0            63.0          98.0                        77.0   \n",
       "5         78.0            57.0          97.0                        74.0   \n",
       "\n",
       "   CWB 2021  \n",
       "2      73.0  \n",
       "4      80.0  \n",
       "5      77.0  "
      ]
     },
     "execution_count": 281,
     "metadata": {},
     "output_type": "execute_result"
    }
   ],
   "source": [
    "print(dfrow.shape)\n",
    "df = dfrow.dropna(how='any')\n",
    "print(df.shape)\n",
    "df.head(3)"
   ]
  },
  {
   "cell_type": "code",
   "execution_count": 282,
   "metadata": {},
   "outputs": [
    {
     "data": {
      "text/plain": [
       "<AxesSubplot:>"
      ]
     },
     "execution_count": 282,
     "metadata": {},
     "output_type": "execute_result"
    },
    {
     "data": {
      "image/png": "[encoded data removed]",
      "text/plain": [
       "<Figure size 432x288 with 2 Axes>"
      ]
     },
     "metadata": {
      "needs_background": "light"
     },
     "output_type": "display_data"
    }
   ],
   "source": [
    "sns.heatmap(df.corr())"
   ]
  },
  {
   "cell_type": "markdown",
   "metadata": {},
   "source": [
    "Since Labour Force Activity 2021 is the variable with a weaker correlation level to CWB 2021, it is the one that is going to be despised. Therefore, the 3 variables choosen are: Income 2021, Education 2021 and Housing 2021."
   ]
  },
  {
   "cell_type": "code",
   "execution_count": 283,
   "metadata": {},
   "outputs": [
    {
     "data": {
      "text/html": [
       "<div>\n",
       "<style scoped>\n",
       "    .dataframe tbody tr th:only-of-type {\n",
       "        vertical-align: middle;\n",
       "    }\n",
       "\n",
       "    .dataframe tbody tr th {\n",
       "        vertical-align: top;\n",
       "    }\n",
       "\n",
       "    .dataframe thead th {\n",
       "        text-align: right;\n",
       "    }\n",
       "</style>\n",
       "<table border=\"1\" class=\"dataframe\">\n",
       "  <thead>\n",
       "    <tr style=\"text-align: right;\">\n",
       "      <th></th>\n",
       "      <th>Income 2021</th>\n",
       "      <th>Education 2021</th>\n",
       "      <th>Housing 2021</th>\n",
       "      <th>CWB 2021</th>\n",
       "    </tr>\n",
       "  </thead>\n",
       "  <tbody>\n",
       "    <tr>\n",
       "      <th>2</th>\n",
       "      <td>76.0</td>\n",
       "      <td>48.0</td>\n",
       "      <td>97.0</td>\n",
       "      <td>73.0</td>\n",
       "    </tr>\n",
       "    <tr>\n",
       "      <th>4</th>\n",
       "      <td>81.0</td>\n",
       "      <td>63.0</td>\n",
       "      <td>98.0</td>\n",
       "      <td>80.0</td>\n",
       "    </tr>\n",
       "    <tr>\n",
       "      <th>5</th>\n",
       "      <td>78.0</td>\n",
       "      <td>57.0</td>\n",
       "      <td>97.0</td>\n",
       "      <td>77.0</td>\n",
       "    </tr>\n",
       "    <tr>\n",
       "      <th>6</th>\n",
       "      <td>79.0</td>\n",
       "      <td>59.0</td>\n",
       "      <td>94.0</td>\n",
       "      <td>76.0</td>\n",
       "    </tr>\n",
       "    <tr>\n",
       "      <th>10</th>\n",
       "      <td>83.0</td>\n",
       "      <td>56.0</td>\n",
       "      <td>96.0</td>\n",
       "      <td>76.0</td>\n",
       "    </tr>\n",
       "    <tr>\n",
       "      <th>...</th>\n",
       "      <td>...</td>\n",
       "      <td>...</td>\n",
       "      <td>...</td>\n",
       "      <td>...</td>\n",
       "    </tr>\n",
       "    <tr>\n",
       "      <th>5153</th>\n",
       "      <td>64.0</td>\n",
       "      <td>20.0</td>\n",
       "      <td>54.0</td>\n",
       "      <td>50.0</td>\n",
       "    </tr>\n",
       "    <tr>\n",
       "      <th>5154</th>\n",
       "      <td>71.0</td>\n",
       "      <td>31.0</td>\n",
       "      <td>71.0</td>\n",
       "      <td>60.0</td>\n",
       "    </tr>\n",
       "    <tr>\n",
       "      <th>5157</th>\n",
       "      <td>84.0</td>\n",
       "      <td>44.0</td>\n",
       "      <td>73.0</td>\n",
       "      <td>70.0</td>\n",
       "    </tr>\n",
       "    <tr>\n",
       "      <th>5158</th>\n",
       "      <td>65.0</td>\n",
       "      <td>26.0</td>\n",
       "      <td>52.0</td>\n",
       "      <td>54.0</td>\n",
       "    </tr>\n",
       "    <tr>\n",
       "      <th>5159</th>\n",
       "      <td>63.0</td>\n",
       "      <td>22.0</td>\n",
       "      <td>52.0</td>\n",
       "      <td>50.0</td>\n",
       "    </tr>\n",
       "  </tbody>\n",
       "</table>\n",
       "<p>3615 rows × 4 columns</p>\n",
       "</div>"
      ],
      "text/plain": [
       "      Income 2021  Education 2021  Housing 2021  CWB 2021\n",
       "2            76.0            48.0          97.0      73.0\n",
       "4            81.0            63.0          98.0      80.0\n",
       "5            78.0            57.0          97.0      77.0\n",
       "6            79.0            59.0          94.0      76.0\n",
       "10           83.0            56.0          96.0      76.0\n",
       "...           ...             ...           ...       ...\n",
       "5153         64.0            20.0          54.0      50.0\n",
       "5154         71.0            31.0          71.0      60.0\n",
       "5157         84.0            44.0          73.0      70.0\n",
       "5158         65.0            26.0          52.0      54.0\n",
       "5159         63.0            22.0          52.0      50.0\n",
       "\n",
       "[3615 rows x 4 columns]"
      ]
     },
     "execution_count": 283,
     "metadata": {},
     "output_type": "execute_result"
    }
   ],
   "source": [
    "df.drop(columns='Labour Force Activity 2021')"
   ]
  },
  {
   "cell_type": "markdown",
   "metadata": {},
   "source": [
    "Determining with quantiles or expertise (literature)"
   ]
  },
  {
   "cell_type": "code",
   "execution_count": 284,
   "metadata": {},
   "outputs": [
    {
     "data": {
      "text/html": [
       "<div>\n",
       "<style scoped>\n",
       "    .dataframe tbody tr th:only-of-type {\n",
       "        vertical-align: middle;\n",
       "    }\n",
       "\n",
       "    .dataframe tbody tr th {\n",
       "        vertical-align: top;\n",
       "    }\n",
       "\n",
       "    .dataframe thead th {\n",
       "        text-align: right;\n",
       "    }\n",
       "</style>\n",
       "<table border=\"1\" class=\"dataframe\">\n",
       "  <thead>\n",
       "    <tr style=\"text-align: right;\">\n",
       "      <th></th>\n",
       "      <th>Income 2021</th>\n",
       "      <th>Education 2021</th>\n",
       "      <th>Housing 2021</th>\n",
       "      <th>Labour Force Activity 2021</th>\n",
       "      <th>CWB 2021</th>\n",
       "    </tr>\n",
       "  </thead>\n",
       "  <tbody>\n",
       "    <tr>\n",
       "      <th>0.25</th>\n",
       "      <td>73.0</td>\n",
       "      <td>52.0</td>\n",
       "      <td>93.0</td>\n",
       "      <td>80.0</td>\n",
       "      <td>75.0</td>\n",
       "    </tr>\n",
       "    <tr>\n",
       "      <th>0.50</th>\n",
       "      <td>77.0</td>\n",
       "      <td>58.0</td>\n",
       "      <td>95.0</td>\n",
       "      <td>85.0</td>\n",
       "      <td>79.0</td>\n",
       "    </tr>\n",
       "    <tr>\n",
       "      <th>0.75</th>\n",
       "      <td>80.0</td>\n",
       "      <td>63.0</td>\n",
       "      <td>97.0</td>\n",
       "      <td>88.0</td>\n",
       "      <td>81.0</td>\n",
       "    </tr>\n",
       "  </tbody>\n",
       "</table>\n",
       "</div>"
      ],
      "text/plain": [
       "      Income 2021  Education 2021  Housing 2021  Labour Force Activity 2021  \\\n",
       "0.25         73.0            52.0          93.0                        80.0   \n",
       "0.50         77.0            58.0          95.0                        85.0   \n",
       "0.75         80.0            63.0          97.0                        88.0   \n",
       "\n",
       "      CWB 2021  \n",
       "0.25      75.0  \n",
       "0.50      79.0  \n",
       "0.75      81.0  "
      ]
     },
     "execution_count": 284,
     "metadata": {},
     "output_type": "execute_result"
    }
   ],
   "source": [
    "df.quantile([0.25, 0.5, 0.75])"
   ]
  },
  {
   "cell_type": "code",
   "execution_count": 285,
   "metadata": {},
   "outputs": [],
   "source": [
    "\n",
    "#THIS CODE IS DEPRECATED - IT HAS BEEN REWRITTEN WITH CLASSES\n",
    "\n",
    "#qt1_income, qt2_income, qt3_income = 0, 0, 0\n",
    "#qt_income = [qt1_income, qt2_income, qt3_income]\n",
    "#qt_income_values = df['Income 2021'].quantile([0.25, 0.5, 0.75])\n",
    "#min_income, max_income = df.min(), df.max()\n",
    "\n",
    "#for xx in [0,1,2]:\n",
    "#    qt_income[xx] = int(qt_income_values.iloc[[xx][0]])\n",
    "#print(qt_income)\n",
    "\n",
    "#Determining the values\n",
    "#Q1, Q3 = qt_income[0], qt_income[2]\n",
    "#LL = max(min_income, (qt_income[0]-(1.5*(Q3-qt_income[0]))))\n"
   ]
  },
  {
   "cell_type": "markdown",
   "metadata": {},
   "source": [
    "Defining a function to return the function of a straight line between two points"
   ]
  },
  {
   "cell_type": "code",
   "execution_count": 286,
   "metadata": {},
   "outputs": [],
   "source": [
    "def lineFromPoints(P, Q):\n",
    " \n",
    "    m = (P[1]-Q[1])/(P[0]-Q[0])\n",
    "    b = P[1] - m*P[0]\n",
    "    #print(\"Função: y=\", m,\"x + \",b)\n",
    "    return [1/m, -b/m]\n",
    "        \n",
    "def functLine (xpoints, ypoints, part):\n",
    "    if part == 1:\n",
    "        P = [xpoints[0],ypoints[0]]\n",
    "        Q = [xpoints[1],ypoints[1]]\n",
    "        #print(\"Ponto P: \", P, \" Ponto Q: \", Q)\n",
    "        return lineFromPoints(P,Q) #Coeficients list\n",
    "\n",
    "    elif part == 3:\n",
    "        P = [xpoints[2],ypoints[2]]\n",
    "        Q = [xpoints[3],ypoints[3]]\n",
    "        return lineFromPoints(P,Q)\n",
    "\n",
    "def valueOfx(xpoints,ypoints, part, number): #Returns a new x for a given y and part of graph\n",
    "        coef_list = functLine(xpoints,ypoints,part)\n",
    "        return coef_list[0]*number + coef_list[1]\n",
    "\n",
    "def newXYpoints(xpoints,ypoints,number): #Returns a new list for Xpoints and Ypoints \n",
    "     #Input Data: list of X-axis points, list of Y-axis points, membershipDegree for clipping\n",
    "     xpointsnew = [xpoints[0],valueOfx(xpoints,ypoints,1,number),valueOfx(xpoints,ypoints,3,number),xpoints[3]]\n",
    "     ypointsnew = [ypoints[0],number,number,ypoints[3]]\n",
    "     return xpointsnew, ypointsnew\n",
    "\n",
    "     \n"
   ]
  },
  {
   "cell_type": "markdown",
   "metadata": {},
   "source": [
    "Creating a class that is going to give the Q1, Q2, Q3, HL and LL for the given DataSet column"
   ]
  },
  {
   "cell_type": "code",
   "execution_count": 287,
   "metadata": {},
   "outputs": [],
   "source": [
    "class Points():\n",
    "    def __init__(self,column): #This function defines quartiles, min and max as attributes\n",
    "        self.column = column\n",
    "        self.Q1 = df[column].quantile([0.25]).iloc[[0][0]]\n",
    "        self.Q2 = df[column].quantile([0.5]).iloc[[0][0]]\n",
    "        self.Q3 = df[column].quantile([0.75]).iloc[[0][0]]\n",
    "        self.min = df[column].min()\n",
    "        self.max = df[column].max()\n",
    "    \n",
    "    def ll(self): #This function returns ll\n",
    "        hl = max(self.min, self.Q1 -(1.5*(self.Q3-self.Q1)))\n",
    "        return hl\n",
    "    def hl(self): #This functions returns hl\n",
    "        hh = min(self.max, self.Q3 + (1.5*(self.Q3 - self.Q1)))\n",
    "        return hh\n",
    "        #self.LL = max(self.min, self.Q1 -(1.5*(self.Q3-self.Q1)))\n",
    "        #self.HL = min(self.max, self.Q3 + (1,5*(self.Q3 - self.Q1)))"
   ]
  },
  {
   "cell_type": "markdown",
   "metadata": {},
   "source": [
    "Designing the Fuzzy Graph for Income 2021"
   ]
  },
  {
   "cell_type": "code",
   "execution_count": 288,
   "metadata": {},
   "outputs": [
    {
     "data": {
      "text/plain": [
       "([<matplotlib.axis.XTick at 0x2d2aa2b9340>,\n",
       "  <matplotlib.axis.XTick at 0x2d2aa2b94c0>,\n",
       "  <matplotlib.axis.XTick at 0x2d2aa8d2700>,\n",
       "  <matplotlib.axis.XTick at 0x2d2aa1c8fd0>,\n",
       "  <matplotlib.axis.XTick at 0x2d2aa1c8850>,\n",
       "  <matplotlib.axis.XTick at 0x2d2aa1db670>,\n",
       "  <matplotlib.axis.XTick at 0x2d2aa1db790>,\n",
       "  <matplotlib.axis.XTick at 0x2d2aa26e040>,\n",
       "  <matplotlib.axis.XTick at 0x2d2aa26e670>,\n",
       "  <matplotlib.axis.XTick at 0x2d2aa270610>,\n",
       "  <matplotlib.axis.XTick at 0x2d2aa26e520>],\n",
       " [Text(0, 0, ''),\n",
       "  Text(0, 0, ''),\n",
       "  Text(0, 0, ''),\n",
       "  Text(0, 0, ''),\n",
       "  Text(0, 0, ''),\n",
       "  Text(0, 0, ''),\n",
       "  Text(0, 0, ''),\n",
       "  Text(0, 0, ''),\n",
       "  Text(0, 0, ''),\n",
       "  Text(0, 0, ''),\n",
       "  Text(0, 0, '')])"
      ]
     },
     "execution_count": 288,
     "metadata": {},
     "output_type": "execute_result"
    },
    {
     "data": {
      "image/png": "[encoded data removed]",
      "text/plain": [
       "<Figure size 432x288 with 1 Axes>"
      ]
     },
     "metadata": {
      "needs_background": "light"
     },
     "output_type": "display_data"
    }
   ],
   "source": [
    "#def IncomePlot():\n",
    "income_points = Points('Income 2021')\n",
    "xpoints_low = [(income_points.ll()-0.5*(income_points.ll()-income_points.min)), income_points.ll(), income_points.Q1, 0.5*(income_points.Q1 + income_points.Q2)]\n",
    "ypoints_low = [0,1,1,0]\n",
    "income_graph = plt.plot(xpoints_low,ypoints_low)\n",
    "\n",
    "#xpoints_low_new, ypoints_low_new = newXYpoints(xpoints_low,ypoints_low,0.6)\n",
    "\n",
    "\n",
    "xpoints_normal = [income_points.Q1, 0.5*(income_points.Q1 + income_points.Q2), 0.5*(income_points.Q2 + income_points.Q3), income_points.Q3]\n",
    "ypoints_normal = [0,1,1,0]\n",
    "income_graph = plt.plot(xpoints_normal,ypoints_normal)\n",
    "\n",
    "xpoints_high = [0.5*(income_points.Q2 + income_points.Q3), income_points.Q3, income_points.hl(), income_points.hl()+0.5*(income_points.max - income_points.hl())]\n",
    "ypoints_high = [0,1,1,0]\n",
    "income_graph = plt.plot(xpoints_high,ypoints_high)\n",
    "\n",
    "plt.title(\"Income Distribution\")\n",
    "plt.legend([\"Low\",\"Medium\",\"High\"])\n",
    "plt.xticks(np.arange(0, 101, step=10))\n",
    "#plt.fill_between(xpoints_low_new, ypoints_low_new)\n",
    "\n"
   ]
  },
  {
   "cell_type": "markdown",
   "metadata": {},
   "source": [
    "Designing the Fuzzy Graph for Education 2021"
   ]
  },
  {
   "cell_type": "code",
   "execution_count": 289,
   "metadata": {},
   "outputs": [
    {
     "data": {
      "text/plain": [
       "([<matplotlib.axis.XTick at 0x2d2a9bda6a0>,\n",
       "  <matplotlib.axis.XTick at 0x2d2a9bda5b0>,\n",
       "  <matplotlib.axis.XTick at 0x2d2a9beaa60>,\n",
       "  <matplotlib.axis.XTick at 0x2d2a94f9ac0>,\n",
       "  <matplotlib.axis.XTick at 0x2d2a9502460>,\n",
       "  <matplotlib.axis.XTick at 0x2d2a9502130>,\n",
       "  <matplotlib.axis.XTick at 0x2d2a94e62b0>,\n",
       "  <matplotlib.axis.XTick at 0x2d2a94e6760>,\n",
       "  <matplotlib.axis.XTick at 0x2d2a9502b50>,\n",
       "  <matplotlib.axis.XTick at 0x2d2a94f9760>,\n",
       "  <matplotlib.axis.XTick at 0x2d2a94fa730>],\n",
       " [Text(0, 0, ''),\n",
       "  Text(0, 0, ''),\n",
       "  Text(0, 0, ''),\n",
       "  Text(0, 0, ''),\n",
       "  Text(0, 0, ''),\n",
       "  Text(0, 0, ''),\n",
       "  Text(0, 0, ''),\n",
       "  Text(0, 0, ''),\n",
       "  Text(0, 0, ''),\n",
       "  Text(0, 0, ''),\n",
       "  Text(0, 0, '')])"
      ]
     },
     "execution_count": 289,
     "metadata": {},
     "output_type": "execute_result"
    },
    {
     "data": {
      "image/png": "[encoded data removed]",
      "text/plain": [
       "<Figure size 432x288 with 1 Axes>"
      ]
     },
     "metadata": {
      "needs_background": "light"
     },
     "output_type": "display_data"
    }
   ],
   "source": [
    "#def EducationPlot():\n",
    "education_points = Points('Education 2021')\n",
    "xpoints_low = [(education_points.ll()-0.5*(education_points.ll()-education_points.min)), education_points.ll(), education_points.Q1, 0.5*(education_points.Q1 + education_points.Q2)]\n",
    "ypoints_low = [0,1,1,0]\n",
    "plt.plot(xpoints_low,ypoints_low)\n",
    "\n",
    "xpoints_normal = [education_points.Q1, 0.5*(education_points.Q1 + education_points.Q2), 0.5*(education_points.Q2 + education_points.Q3), education_points.Q3]\n",
    "ypoints_normal = [0,1,1,0]\n",
    "plt.plot(xpoints_normal,ypoints_normal)\n",
    "\n",
    "xpoints_high = [0.5*(education_points.Q2 + education_points.Q3), education_points.Q3, education_points.hl(), education_points.hl()+0.5*(education_points.max - education_points.hl())]\n",
    "ypoints_high = [0,1,1,0]\n",
    "plt.plot(xpoints_high,ypoints_high)\n",
    "\n",
    "plt.title(\"Education Distribution\")\n",
    "plt.legend([\"Low\",\"Medium\",\"High\"])\n",
    "plt.xticks(np.arange(0, 101, step=10))\n",
    "\n",
    "    #plt.plot(xpoints_low, functionToPlot(xpoints_low, xpoints_low,ypoints_low, 1))\n",
    "    #plt.fill_between(xpoints_low, [0,0.6,0.6,0], interpolate='True')\n",
    "    #plt.fill_betweenx()\n"
   ]
  },
  {
   "cell_type": "markdown",
   "metadata": {},
   "source": [
    "Designing the Fuzzy Graph for Housing 2021"
   ]
  },
  {
   "cell_type": "code",
   "execution_count": 290,
   "metadata": {},
   "outputs": [
    {
     "data": {
      "text/plain": [
       "([<matplotlib.axis.XTick at 0x2d2a9137160>,\n",
       "  <matplotlib.axis.XTick at 0x2d2a91378b0>,\n",
       "  <matplotlib.axis.XTick at 0x2d2a90c1a00>,\n",
       "  <matplotlib.axis.XTick at 0x2d2a916eb80>,\n",
       "  <matplotlib.axis.XTick at 0x2d2a916e340>,\n",
       "  <matplotlib.axis.XTick at 0x2d2a957c0d0>,\n",
       "  <matplotlib.axis.XTick at 0x2d2a9a77490>,\n",
       "  <matplotlib.axis.XTick at 0x2d2a9a77160>,\n",
       "  <matplotlib.axis.XTick at 0x2d2a956f520>,\n",
       "  <matplotlib.axis.XTick at 0x2d2a9a771c0>,\n",
       "  <matplotlib.axis.XTick at 0x2d2a9410340>],\n",
       " [Text(0, 0, ''),\n",
       "  Text(0, 0, ''),\n",
       "  Text(0, 0, ''),\n",
       "  Text(0, 0, ''),\n",
       "  Text(0, 0, ''),\n",
       "  Text(0, 0, ''),\n",
       "  Text(0, 0, ''),\n",
       "  Text(0, 0, ''),\n",
       "  Text(0, 0, ''),\n",
       "  Text(0, 0, ''),\n",
       "  Text(0, 0, '')])"
      ]
     },
     "execution_count": 290,
     "metadata": {},
     "output_type": "execute_result"
    },
    {
     "data": {
      "image/png": "[encoded data removed]",
      "text/plain": [
       "<Figure size 432x288 with 1 Axes>"
      ]
     },
     "metadata": {
      "needs_background": "light"
     },
     "output_type": "display_data"
    }
   ],
   "source": [
    "#def HousingPlot():\n",
    "housing_points = Points('Housing 2021')\n",
    "xpoints_low = [(housing_points.ll()-0.5*(housing_points.ll()-housing_points.min)), housing_points.ll(), housing_points.Q1, 0.5*(housing_points.Q1 + housing_points.Q2)]\n",
    "ypoints_low = [0,1,1,0]\n",
    "plt.plot(xpoints_low,ypoints_low)\n",
    "\n",
    "xpoints_normal = [housing_points.Q1, 0.5*(housing_points.Q1 + housing_points.Q2), 0.5*(housing_points.Q2 + housing_points.Q3), housing_points.Q3]\n",
    "ypoints_normal = [0,1,1,0]\n",
    "plt.plot(xpoints_normal,ypoints_normal)\n",
    "\n",
    "xpoints_high = [0.5*(housing_points.Q2 + housing_points.Q3), housing_points.Q3, housing_points.hl(), housing_points.hl()+0.5*(housing_points.max - housing_points.hl())]\n",
    "ypoints_high = [0,1,1,0]\n",
    "plt.plot(xpoints_high,ypoints_high)\n",
    "\n",
    "plt.title(\"Housing Distribution\")\n",
    "plt.legend([\"Low\",\"Medium\",\"High\"])\n",
    "plt.xticks(np.arange(0, 101, step=10))\n"
   ]
  },
  {
   "cell_type": "markdown",
   "metadata": {},
   "source": [
    "Designing the Fuzy Graph for CWB 2021"
   ]
  },
  {
   "cell_type": "code",
   "execution_count": 291,
   "metadata": {},
   "outputs": [],
   "source": [
    "#def CwbPlot():\n",
    "cwb_points = Points('CWB 2021')\n",
    "xpoints_low_Cwb = [(cwb_points.ll()-0.5*(cwb_points.ll()-cwb_points.min)), cwb_points.ll(), cwb_points.Q1, 0.5*(cwb_points.Q1 + cwb_points.Q2)]\n",
    "ypoints_low_Cwb = [0,1,1,0]\n",
    "#plt.plot(xpoints_low_Cwb,ypoints_low_Cwb)\n",
    "\n",
    "xpoints_normal_Cwb = [cwb_points.Q1, 0.5*(cwb_points.Q1 + cwb_points.Q2), 0.5*(cwb_points.Q2 + cwb_points.Q3), cwb_points.Q3]\n",
    "ypoints_normal_Cwb = [0,1,1,0]\n",
    "#plt.plot(xpoints_normal_Cwb,ypoints_normal_Cwb)\n",
    "\n",
    "xpoints_high_Cwb = [0.5*(cwb_points.Q2 + cwb_points.Q3), cwb_points.Q3, cwb_points.hl(), cwb_points.hl()+0.5*(cwb_points.max - cwb_points.hl())]\n",
    "ypoints_high_Cwb = [0,1,1,0]\n",
    "#plt.plot(xpoints_high_Cwb,ypoints_high_Cwb)\n",
    "def CwbPlot():\n",
    "    plt.plot(xpoints_low_Cwb,ypoints_low_Cwb)\n",
    "    plt.plot(xpoints_normal_Cwb,ypoints_normal_Cwb)\n",
    "    plt.plot(xpoints_high_Cwb,ypoints_high_Cwb)\n",
    "    plt.title(\"Community Well Being Distribution\")\n",
    "    plt.legend([\"Low\",\"Medium\",\"High\"])\n",
    "    #plt.xticks(np.arange(0, 101, step=10))\n",
    "\n"
   ]
  },
  {
   "cell_type": "markdown",
   "metadata": {},
   "source": [
    "Testing for obtaining the membership value"
   ]
  },
  {
   "cell_type": "code",
   "execution_count": 292,
   "metadata": {},
   "outputs": [],
   "source": [
    "#education_points = Points('Education 2021')\n",
    "from scipy.interpolate import interp1d\n",
    "#xpoints_low = [(education_points.ll()-0.5*(education_points.ll()-education_points.min)), education_points.ll(), education_points.Q1, 0.5*(education_points.Q1 + education_points.Q2)]\n",
    "#xpoints_low_growbar = [(education_points.ll()-0.5*(education_points.ll()-education_points.min)), education_points.ll()]\n",
    "#ypoints_low_growbar = [0,1]\n",
    "#interpolation_function = interp1d(xpoints_low_growbar,ypoints_low_growbar)\n",
    "\n",
    "#print(interpolation_function(35))"
   ]
  },
  {
   "cell_type": "code",
   "execution_count": 293,
   "metadata": {},
   "outputs": [],
   "source": [
    "#Creating a class for interpolation of membership degree\n",
    "#Procedure: Create a object from the class Interpolation (ex.: InterpolationTest = Interpolation(education_points))\n",
    "#Input type: Points() class object\n",
    "\n",
    "#Use the membershipDegreeCalculator() function to calculate the degree of membership of value to the corresponding levels (Low, Normal & High)\n",
    "#Example: InterpolationTest.membershipDegreeCalculator(55)\n",
    "#Input type: Number\n",
    "\n",
    "\n",
    "class Interpolation:\n",
    "    def __init__(self, object): #Initialization funtion\n",
    "        self.object = object\n",
    "        self.Q1 = self.object.Q1\n",
    "        self.Q2 = self.object.Q2\n",
    "        self.Q3 = self.object.Q3\n",
    "        self.ll = self.object.ll()\n",
    "        self.hl = self.object.hl()\n",
    "        self.graphParts()\n",
    "    \n",
    "\n",
    "    def graphParts(self): # Sets the intervals for each class based on the quantiles of the Points object\n",
    "        self.low_part1 = [(self.object.ll()-0.5*(self.object.ll()-self.object.min)), self.object.ll()] #Monotonicity positive\n",
    "        self.low_part2 = [self.object.ll(), self.object.Q1] #Monocity 0\n",
    "        self.low_part3 = [self.object.Q1, 0.5*(self.object.Q1 + self.object.Q2)] #Monocity negative\n",
    "        self.normal_part1 = [self.object.Q1, 0.5*(self.object.Q1 + self.object.Q2)]\n",
    "        self.normal_part2 = [0.5*(self.object.Q1 + self.object.Q2), 0.5*(self.object.Q2 + self.object.Q3)]\n",
    "        self.normal_part3 = [0.5*(self.object.Q2 + self.object.Q3), self.object.Q3]\n",
    "        self.high_part1 = [0.5*(self.object.Q2 + self.object.Q3), self.object.Q3]\n",
    "        self.high_part2 = [self.object.Q3, self.object.hl()]\n",
    "        self.high_part3 = [self.object.hl(), self.object.hl()+0.5*(self.object.max - self.object.hl())]\n",
    "\n",
    "    def interpolationFunction(self, xpoints, ypoints): #Defines the interpolation function\n",
    "        interpolation_function = interp1d(xpoints,ypoints)\n",
    "        return interpolation_function(self.number)\n",
    "\n",
    "    def membershipDegreeCalculator(self,number): #Sets the data points for the interpolation and calculates the membership degree\n",
    "        self.number = number\n",
    "        self.membershipDegrees = {'membershipDegreeLow': 0, 'membershipDegreeNormal':0, 'membershipDegreeHigh': 0}\n",
    "\n",
    "        if (self.number >= self.low_part1[0]) and (self.number <= self.low_part1[1]):\n",
    "            lstxpoints = self.low_part1\n",
    "            lstypoints = [0,1]\n",
    "            self.membershipDegreeLow = self.interpolationFunction(lstxpoints,lstypoints)\n",
    "            self.membershipDegrees['membershipDegreeLow'] = self.membershipDegreeLow\n",
    "\n",
    "            \n",
    "        elif (self.number >= self.low_part2[0]) and (self.number <= self.low_part2[1]):\n",
    "            lstxpoints = self.low_part2\n",
    "            lstypoints = [1,1]\n",
    "            self.membershipDegreeLow = self.interpolationFunction(lstxpoints,lstypoints)\n",
    "            self.membershipDegrees['membershipDegreeLow'] = self.membershipDegreeLow\n",
    "\n",
    "        elif (self.number >= self.low_part3[0]) and (self.number <= self.low_part3[1]): \n",
    "            lstxpoints = self.low_part3\n",
    "            lstypoints = [1,0]\n",
    "            self.membershipDegreeLow = self.interpolationFunction(lstxpoints,lstypoints)\n",
    "            self.membershipDegrees['membershipDegreeLow'] = self.membershipDegreeLow\n",
    "            \n",
    "        if (self.number >= self.normal_part1[0]) and (self.number <= self.normal_part1[1]):\n",
    "            lstxpoints = self.normal_part1\n",
    "            lstypoints = [0,1]\n",
    "            self.membershipDegreeNormal = self.interpolationFunction(lstxpoints,lstypoints)\n",
    "            self.membershipDegrees['membershipDegreeNormal'] = self.membershipDegreeNormal\n",
    "            \n",
    "        elif (self.number >= self.normal_part2[0]) and (self.number <= self.normal_part2[1]):\n",
    "            lstxpoints = self.normal_part2\n",
    "            lstypoints = [1,1]\n",
    "            self.membershipDegreeNormal = self.interpolationFunction(lstxpoints,lstypoints)\n",
    "            self.membershipDegrees['membershipDegreeNormal'] = self.membershipDegreeNormal\n",
    "\n",
    "        elif (self.number >= self.normal_part3[0]) and (self.number <= self.normal_part3[1]):\n",
    "            lstxpoints = self.normal_part3\n",
    "            lstypoints = [1,0]\n",
    "            self.membershipDegreeNormal = self.interpolationFunction(lstxpoints,lstypoints)\n",
    "            self.membershipDegrees['membershipDegreeNormal'] = self.membershipDegreeNormal\n",
    "            self.membershipDegrees['membershipDegreeNormal'] = self.membershipDegreeNormal\n",
    "\n",
    "        if (self.number >= self.high_part1[0]) and (self.number <= self.high_part1[1]):\n",
    "            lstxpoints = self.high_part1\n",
    "            lstypoints = [0,1]\n",
    "            self.membershipDegreeHigh = self.interpolationFunction(lstxpoints,lstypoints)\n",
    "            self.membershipDegrees['membershipDegreeHigh'] = self.membershipDegreeHigh\n",
    "\n",
    "        elif (self.number >= self.high_part2[0]) and (self.number <= self.high_part2[1]):\n",
    "            lstxpoints = self.high_part2\n",
    "            lstypoints = [1,1]\n",
    "            self.membershipDegreeHigh = self.interpolationFunction(lstxpoints,lstypoints)\n",
    "            self.membershipDegrees['membershipDegreeHigh'] = self.membershipDegreeHigh\n",
    "\n",
    "        elif (self.number >= self.high_part3[0]) and (self.number <= self.high_part3[1]):\n",
    "            lstxpoints = self.high_part3\n",
    "            lstypoints = [1,0]\n",
    "            self.membershipDegreeHigh = self.interpolationFunction(lstxpoints,lstypoints)\n",
    "            self.membershipDegrees['membershipDegreeHigh'] = self.membershipDegreeHigh\n",
    "\n",
    "        #return f'''The membership degrees are as followed.\n",
    "        #Membership of Low: {self.membershipDegrees[\"membershipDegreeLow\"]} \n",
    "        #Membership of Normal: {self.membershipDegrees[\"membershipDegreeNormal\"]} \n",
    "        #Membership of High: {self.membershipDegrees[\"membershipDegreeHigh\"]}'''\n",
    "        return [self.membershipDegrees[\"membershipDegreeLow\"], self.membershipDegrees[\"membershipDegreeNormal\"], self.membershipDegrees[\"membershipDegreeHigh\"]]\n",
    "\n",
    "\n",
    "\n",
    "#Testing and Debugging\n",
    "#InterpolationTest = Interpolation(education_points)\n",
    "#print(InterpolationTest.membershipDegreeCalculator(61))"
   ]
  },
  {
   "cell_type": "code",
   "execution_count": 294,
   "metadata": {},
   "outputs": [],
   "source": [
    "#IncomePlot()\n",
    "#print(income_points)\n",
    "#HousingPlot()\n",
    "#CwbPlot()\n",
    "#EducationPlot()\n",
    "#income_points, housing_points, education_points, cwb_points = IncomePlot(), HousingPlot(), EducationPlot(), CwbPlot()"
   ]
  },
  {
   "cell_type": "markdown",
   "metadata": {},
   "source": [
    "Membership for each variable and state"
   ]
  },
  {
   "cell_type": "code",
   "execution_count": 324,
   "metadata": {},
   "outputs": [],
   "source": [
    "Input = {'Income':0 , 'Housing':0 , 'Education':0}\n",
    "MembershipDegreesForIncome = {'Low': None, 'Normal': None, 'High': None}\n",
    "MembershipDegreesForHousing = {'Low': None, 'Normal': None, 'High': None}\n",
    "MembershipDegreesForEducation = {'Low': None, 'Normal': None, 'High': None}\n",
    "MembershipDegreesForVariable = {'Income': MembershipDegreesForIncome, 'Housing': MembershipDegreesForHousing, 'Education': MembershipDegreesForEducation}\n",
    "CwbMembershipDegrees = {'Low': 0, 'Normal':0, 'High':0}\n",
    "def UpdateMembershipDegrees():\n",
    "    for key in Input.keys():\n",
    "        if key == 'Income':\n",
    "            incomeInterpolation = Interpolation(income_points)\n",
    "            membershipDegreesValues = incomeInterpolation.membershipDegreeCalculator(Input.get('Income'))\n",
    "            MembershipDegreesForIncome['Low'] = membershipDegreesValues[0]\n",
    "            MembershipDegreesForIncome['Normal'] = membershipDegreesValues[1]\n",
    "            MembershipDegreesForIncome['High'] = membershipDegreesValues[2]\n",
    "        elif key == 'Housing':\n",
    "            housingInterpolation = Interpolation(housing_points)\n",
    "            membershipDegreesValues = housingInterpolation.membershipDegreeCalculator(Input.get('Housing'))\n",
    "            MembershipDegreesForHousing['Low'] = membershipDegreesValues[0]\n",
    "            MembershipDegreesForHousing['Normal'] = membershipDegreesValues[1]\n",
    "            MembershipDegreesForHousing['High'] = membershipDegreesValues[2]\n",
    "\n",
    "        elif key == 'Education':\n",
    "            educationInterpolation = Interpolation(education_points)\n",
    "            membershipDegreesValues = educationInterpolation.membershipDegreeCalculator(Input.get('Education'))\n",
    "            MembershipDegreesForEducation['Low'] = membershipDegreesValues[0]\n",
    "            MembershipDegreesForEducation['Normal'] = membershipDegreesValues[1]\n",
    "            MembershipDegreesForEducation['High'] = membershipDegreesValues[2]\n",
    "    #For testing purposes - printing the values of membership\n",
    "    #print(f\"\"\"Income Membership - Low: {MembershipDegreesForIncome['Low']}  Normal:{MembershipDegreesForIncome['Normal']} High: {MembershipDegreesForIncome['High']}\n",
    "    #        Education Membership - Low: {MembershipDegreesForEducation['Low']} Normal: {MembershipDegreesForEducation['Normal']} High: {MembershipDegreesForEducation['High']}\n",
    "    #        Housing Membership - Low: {MembershipDegreesForHousing['Low']} Normal:{MembershipDegreesForHousing['Normal']} High:{MembershipDegreesForHousing['High']}\"\"\")"
   ]
  },
  {
   "cell_type": "code",
   "execution_count": 296,
   "metadata": {},
   "outputs": [],
   "source": [
    "def InputData(IncomeValue,HousingValue,EducationValue):\n",
    "    #Defines the values for Income, Housing and Education\n",
    "\n",
    "    #Input Data: Income, Housing, Education\n",
    "\n",
    "    Input['Income'] = IncomeValue\n",
    "    Input['Housing'] = HousingValue\n",
    "    Input['Education'] = EducationValue\n",
    "    UpdateMembershipDegrees()\n",
    "\n",
    "#Testing\n",
    "#InputData(74,96.5,54)\n",
    "\n",
    "#EducationPlot()"
   ]
  },
  {
   "cell_type": "markdown",
   "metadata": {},
   "source": [
    "Implementation of Rules"
   ]
  },
  {
   "cell_type": "code",
   "execution_count": 325,
   "metadata": {},
   "outputs": [],
   "source": [
    "#if all variables are high, CWB is high - DONE\n",
    "#if all variables are low, CWB is low - DONE\n",
    "#if two variables are high and 1 low, CWB is normal\n",
    "#if two variables are low and 1 normal, CWB is low\n",
    "#if two variables are low and 1 high, CWB is low\n",
    "#if all variables are normal, CWB is normal - DONE\n",
    "#if 1 variable is low, 1 normal and 1 high, CWB is normal\n",
    "\n",
    "def safe_min(*values):\n",
    "    filtered_values = [v for v in values if v is not None]\n",
    "    return min(filtered_values) if filtered_values else 0  # Return 0 if all are None\n",
    "\n",
    "# Assuming CwbMembershipDegrees has been initialized with {'Low': \"\", 'Normal': \"\", 'High': \"\"}\n",
    "def RunRules():\n",
    "    # Rule 1: If all variables are high, CWB is high\n",
    "    CwbMembershipDegrees['High'] = max(CwbMembershipDegrees['High'], safe_min(MembershipDegreesForIncome['High'], MembershipDegreesForHousing['High'], MembershipDegreesForEducation['High']))\n",
    "\n",
    "    # Rule 2: If all variables are normal, CWB is normal\n",
    "    CwbMembershipDegrees['Normal'] = max(CwbMembershipDegrees['Normal'], safe_min(MembershipDegreesForIncome['Normal'], MembershipDegreesForHousing['Normal'], MembershipDegreesForEducation['Normal']))\n",
    "\n",
    "    # Rule 3: If all variables are low, CWB is low\n",
    "    CwbMembershipDegrees['Low'] = max(CwbMembershipDegrees['Low'], safe_min(MembershipDegreesForIncome['Low'], MembershipDegreesForHousing['Low'], MembershipDegreesForEducation['Low']))\n",
    "\n",
    "    # Rule 4: If two variables are high and one is low, CWB is normal\n",
    "    CwbMembershipDegrees['Normal'] = max(CwbMembershipDegrees['Normal'], safe_min(MembershipDegreesForIncome['Low'], MembershipDegreesForHousing['High'], MembershipDegreesForEducation['High']))\n",
    "    CwbMembershipDegrees['Normal'] = max(CwbMembershipDegrees['Normal'], safe_min(MembershipDegreesForIncome['High'], MembershipDegreesForHousing['Low'], MembershipDegreesForEducation['High']))\n",
    "    CwbMembershipDegrees['Normal'] = max(CwbMembershipDegrees['Normal'], safe_min(MembershipDegreesForIncome['High'], MembershipDegreesForHousing['High'], MembershipDegreesForEducation['Low']))\n",
    "\n",
    "    # Rule 5: If two variables are low and one normal, CWB is low\n",
    "    CwbMembershipDegrees['Low'] = max(CwbMembershipDegrees['Low'], safe_min(MembershipDegreesForIncome['Low'], MembershipDegreesForHousing['Low'], MembershipDegreesForEducation['Normal']))\n",
    "    CwbMembershipDegrees['Low'] = max(CwbMembershipDegrees['Low'], safe_min(MembershipDegreesForIncome['Low'], MembershipDegreesForHousing['Normal'], MembershipDegreesForEducation['Low']))\n",
    "    CwbMembershipDegrees['Low'] = max(CwbMembershipDegrees['Low'], safe_min(MembershipDegreesForIncome['Normal'], MembershipDegreesForHousing['Low'], MembershipDegreesForEducation['Low']))\n",
    "\n",
    "    # Rule 6: If two variables are low and one high, CWB is low\n",
    "    CwbMembershipDegrees['Low'] = max(CwbMembershipDegrees['Low'], safe_min(MembershipDegreesForIncome['Low'], MembershipDegreesForHousing['Low'], MembershipDegreesForEducation['High']))\n",
    "    CwbMembershipDegrees['Low'] = max(CwbMembershipDegrees['Low'], safe_min(MembershipDegreesForIncome['Low'], MembershipDegreesForHousing['High'], MembershipDegreesForEducation['Low']))\n",
    "    CwbMembershipDegrees['Low'] = max(CwbMembershipDegrees['Low'], safe_min(MembershipDegreesForIncome['High'], MembershipDegreesForHousing['Low'], MembershipDegreesForEducation['Low']))\n",
    "\n",
    "    # Rule 7: If one variable is low, one normal, and one high, CWB is normal\n",
    "    CwbMembershipDegrees['Normal'] = max(CwbMembershipDegrees['Normal'], safe_min(MembershipDegreesForIncome['Low'], MembershipDegreesForHousing['Normal'], MembershipDegreesForEducation['High']))\n",
    "    CwbMembershipDegrees['Normal'] = max(CwbMembershipDegrees['Normal'], safe_min(MembershipDegreesForIncome['Normal'], MembershipDegreesForHousing['Low'], MembershipDegreesForEducation['High']))\n",
    "    CwbMembershipDegrees['Normal'] = max(CwbMembershipDegrees['Normal'], safe_min(MembershipDegreesForIncome['High'], MembershipDegreesForHousing['Normal'], MembershipDegreesForEducation['Low']))\n",
    "    CwbMembershipDegrees['Normal'] = max(CwbMembershipDegrees['Normal'], safe_min(MembershipDegreesForIncome['Normal'], MembershipDegreesForHousing['High'], MembershipDegreesForEducation['Low']))\n",
    "    #print(CwbMembershipDegrees['Low'], CwbMembershipDegrees['Normal'], CwbMembershipDegrees['High'])\n"
   ]
  },
  {
   "cell_type": "code",
   "execution_count": 301,
   "metadata": {},
   "outputs": [],
   "source": [
    "def calculate_centroid_from_sets(low_points, normal_points, high_points, low_degree, normal_degree, high_degree):\n",
    "    \"\"\"\n",
    "    Calculates the centroid (center of gravity) for CWB.\n",
    "    \n",
    "    Parameters:\n",
    "    - low_points, normal_points, high_points: Lists of x-values for each fuzzy set.\n",
    "    - low_degree, normal_degree, high_degree: Membership degrees for each fuzzy set.\n",
    "\n",
    "    Returns:\n",
    "    - The centroid (defuzzified value).\n",
    "    \"\"\"\n",
    "    # Combine x points and apply weights (membership degrees)\n",
    "    all_x_points = low_points + normal_points + high_points\n",
    "    all_memberships = [low_degree] * len(low_points) + \\\n",
    "                      [normal_degree] * len(normal_points) + \\\n",
    "                      [high_degree] * len(high_points)\n",
    "    \n",
    "    # Calculate centroid\n",
    "    numerator = sum(x * membership for x, membership in zip(all_x_points, all_memberships))\n",
    "    denominator = sum(all_memberships)\n",
    "    return numerator / denominator if denominator != 0 else None"
   ]
  },
  {
   "cell_type": "code",
   "execution_count": 316,
   "metadata": {},
   "outputs": [],
   "source": [
    "def CwbFuzzyPlot(IncomeValue, HousingValue, EducationValue):\n",
    "    #This function runs the funtions InputData to insert the values of variables, RunRules to apply the rules and CwbPlot to plot the Community Wellbeing graph\n",
    "    #Input Data: IncomeValue, HousingValue, Education Value\n",
    "    InputData(IncomeValue,HousingValue,EducationValue)\n",
    "    RunRules()\n",
    "    CwbPlot()\n",
    "\n",
    "    #Clipping for CWB\n",
    "    #Determining the new points for fill_between()\n",
    "    NewXPoints_Low, NewYPoints_Low = newXYpoints(xpoints_low_Cwb,ypoints_low_Cwb,CwbMembershipDegrees['Low'])\n",
    "    NewXPoints_Normal, NewYPoints_Normal = newXYpoints(xpoints_normal_Cwb,ypoints_normal_Cwb,CwbMembershipDegrees['Normal'])\n",
    "    NewXPoints_High, NewYPoints_High = newXYpoints(xpoints_high_Cwb,ypoints_high_Cwb,CwbMembershipDegrees['High'])\n",
    "    #Filling the area of CWB membership\n",
    "    plt.fill_between(NewXPoints_Low, NewYPoints_Low)\n",
    "    plt.fill_between(NewXPoints_Normal, NewYPoints_Normal)\n",
    "    plt.fill_between(NewXPoints_High, NewYPoints_High)\n",
    "\n",
    "    #Defuzzification\n",
    "    defuzzified_value = calculate_centroid_from_sets(\n",
    "        NewXPoints_Low, NewXPoints_Normal, NewXPoints_High,\n",
    "        CwbMembershipDegrees['Low'], CwbMembershipDegrees['Normal'], CwbMembershipDegrees['High']\n",
    "    )\n",
    "    \n",
    "    print(\"Defuzzified CWB Value (Centroid):\", defuzzified_value)\n",
    "    "
   ]
  },
  {
   "cell_type": "markdown",
   "metadata": {},
   "source": [
    "Place the values for Income, Housing and Education below (in that order)"
   ]
  },
  {
   "cell_type": "code",
   "execution_count": 326,
   "metadata": {},
   "outputs": [
    {
     "data": {
      "text/plain": [
       "('Defuzzified CWB Value (Centroid):', 66.875)"
      ]
     },
     "execution_count": 326,
     "metadata": {},
     "output_type": "execute_result"
    },
    {
     "data": {
      "image/png": "[encoded data removed]",
      "text/plain": [
       "<Figure size 432x288 with 1 Axes>"
      ]
     },
     "metadata": {
      "needs_background": "light"
     },
     "output_type": "display_data"
    }
   ],
   "source": [
    "CwbFuzzyPlot(81,93,45)"
   ]
  }
 ],
 "metadata": {
  "kernelspec": {
   "display_name": "Python 3 (ipykernel)",
   "language": "python",
   "name": "python3"
  },
  "language_info": {
   "codemirror_mode": {
    "name": "ipython",
    "version": 3
   },
   "file_extension": ".py",
   "mimetype": "text/x-python",
   "name": "python",
   "nbconvert_exporter": "python",
   "pygments_lexer": "ipython3",
   "version": "3.8.10"
  }
 },
 "nbformat": 4,
 "nbformat_minor": 2
}
