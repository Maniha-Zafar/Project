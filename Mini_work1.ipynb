{
  "cells": [
    {
      "cell_type": "markdown",
      "id": "375aacc5",
      "metadata": {
        "id": "375aacc5"
      },
      "source": [
        "<br>\n",
        "\n",
        "# Técnicas Matemáticas para Big Data - Project NN?\n",
        "<br><br>\n"
      ]
    },
    {
      "cell_type": "code",
      "execution_count": null,
      "id": "f4bd0adb-0e47-4397-92b9-fd705a86923c",
      "metadata": {
        "id": "f4bd0adb-0e47-4397-92b9-fd705a86923c"
      },
      "outputs": [],
      "source": []
    },
    {
      "cell_type": "markdown",
      "id": "8b47c68c",
      "metadata": {
        "id": "8b47c68c"
      },
      "source": [
        "GROUP NN:\n",
        "- Student 1 - 123218 - Maniha Zafar - % Work Participation\n",
        "- Student 2 - Nº xxxxx - ??% Work Participation\n"
      ]
    },
    {
      "cell_type": "markdown",
      "id": "c66fb045",
      "metadata": {
        "id": "c66fb045"
      },
      "source": [
        "<br><br>\n",
        "\n",
        "## 1. Introduction to the problem of study [1,0 valor]"
      ]
    },
    {
      "cell_type": "markdown",
      "source": [
        "The Community Well-Being (CWB) index is a comprehensive measure designed to assess the socio-economic well-being of communities in Canada. This index encompasses four main components: **education, income, housing, and employment**, which serve as indicators of social and economic development across diverse communities. The objective is to evaluate and understand disparities or improvements in these areas over time. Fuzzy logic is used in this study to handle the uncertainty and imprecision inherent in socio-economic data, making it possible to categorize and analyze community well-being in a more flexible manner."
      ],
      "metadata": {
        "id": "7i_J54EAi9jK"
      },
      "id": "7i_J54EAi9jK"
    },
    {
      "cell_type": "markdown",
      "id": "41af2342",
      "metadata": {
        "id": "41af2342"
      },
      "source": [
        "<br><br>\n",
        "## 2. Brief and general description of the approach and methods used [1,5 valor]"
      ]
    },
    {
      "cell_type": "markdown",
      "source": [
        "This study uses fuzzy logic to assess socio-economic well-being, focusing on the relationship between education, income, and housing. Fuzzy logic handles the imprecision of socio-economic data by grouping values into fuzzy sets (e.g., \"low,\" \"medium,\" \"high\") rather than fixed categories. Using these sets, rules such as \"IF education is high AND income is low THEN housing is moderate\" capture the relationships between variables.\n",
        "\n",
        "The process involves fuzzifying each input, applying the rules to generate fuzzy outputs, and finally defuzzifying these outputs to produce a single, interpretable value for housing quality. This approach enables a more flexible, nuanced understanding of community well-being that is well-suited to policy analysis.\n",
        "\n"
      ],
      "metadata": {
        "id": "WXsN9pqbl_ci"
      },
      "id": "WXsN9pqbl_ci"
    },
    {
      "cell_type": "markdown",
      "id": "0e324615",
      "metadata": {
        "id": "0e324615"
      },
      "source": [
        "<br><br>\n",
        "## 3. Brief History and literature review of the problem and methods/algorithms [1,5 valor]"
      ]
    },
    {
      "cell_type": "markdown",
      "source": [
        "The CWB index was developed as a means of providing a holistic socio-economic indicator for Canadian communities, particularly to address the disparities in well-being between Indigenous and non-Indigenous communities. Fuzzy logic has a well-established history in modeling socio-economic and environmental systems due to its ability to manage ambiguity and gradual boundaries between categories, as seen in seminal works by Zadeh (1965) on fuzzy sets and later developments in fuzzy inference systems. Studies have used fuzzy logic extensively in areas such as environmental health, quality of life, and socio-economic analysis, showing that it is particularly effective in scenarios where data is qualitative, uncertain, or incomplete."
      ],
      "metadata": {
        "id": "qTZukZYcmD5_"
      },
      "id": "qTZukZYcmD5_"
    },
    {
      "cell_type": "markdown",
      "id": "4889a980",
      "metadata": {
        "id": "4889a980"
      },
      "source": [
        "<br><br>\n",
        "## 4. About the main method/algorithm used [1,5 valor]"
      ]
    },
    {
      "cell_type": "markdown",
      "source": [
        "The primary method used in this approach is the Mamdani fuzzy inference system (FIS). This system uses a set of “if-then” rules to model relationships between input and output variables, which are based on human reasoning and linguistic terms. The Mamdani method involves:\n",
        "\n",
        "**1. Fuzzification** of input variables into linguistic categories.\n",
        "\n",
        "**2. Rule Evaluation** to apply fuzzy rules and determine the degree of truth for each rule.\n",
        "\n",
        "**3. Aggregation** of rule outputs into a combined fuzzy set.\n",
        "\n",
        "**4. Defuzzification** to produce a crisp output, in this case, related to the housing component of the CWB."
      ],
      "metadata": {
        "id": "wUP-SJYCmKYt"
      },
      "id": "wUP-SJYCmKYt"
    },
    {
      "cell_type": "markdown",
      "id": "52795c65",
      "metadata": {
        "id": "52795c65"
      },
      "source": [
        "<br><br>\n",
        "\n",
        "## 5. Python imports and global configurations [0,5 valor]"
      ]
    },
    {
      "cell_type": "markdown",
      "id": "6f0f3deb",
      "metadata": {
        "id": "6f0f3deb"
      },
      "source": [
        "### Install and import the necessary libraries to compute the Bayesian Network and perform other methods  "
      ]
    },
    {
      "cell_type": "code",
      "execution_count": null,
      "id": "b5177dbe",
      "metadata": {
        "id": "b5177dbe"
      },
      "outputs": [],
      "source": [
        "# %pip install pandas\n",
        "# %pip install seaborn\n",
        "# %pip install matplotlib\n",
        "# %pip install numpy\n",
        "# %pip install pomegranate\n",
        "# %pip install torch\n",
        "# %pip install Pillow"
      ]
    },
    {
      "cell_type": "markdown",
      "id": "bb739aae",
      "metadata": {
        "id": "bb739aae"
      },
      "source": [
        "<br><br>\n",
        "\n",
        "## 6. Dataset and variables explanation [1,5 valor]"
      ]
    },
    {
      "cell_type": "markdown",
      "source": [
        "**The dataset includes various socio-economic indicators aggregated within the CWB index:**\n",
        "\n",
        "**Education:** Levels of educational attainment within the community.\n",
        "\n",
        "**Income:** Economic stability and income levels among community members.\n",
        "\n",
        "**Housing:** Quality and availability of housing, reflecting living conditions.\n",
        "In the fuzzy logic application, education and income serve as antecedent variables, while housing is the consequent variable. The education and income variables are transformed into fuzzy sets (e.g., \"low,\" \"medium,\" \"high\"), and rules are applied to infer the state of housing in a community based on these antecedent conditions."
      ],
      "metadata": {
        "id": "2rurBDPrmQoS"
      },
      "id": "2rurBDPrmQoS"
    },
    {
      "cell_type": "markdown",
      "id": "e5703771",
      "metadata": {
        "id": "e5703771"
      },
      "source": [
        "<br><br>\n",
        "\n",
        "## 7. Main code as possible solution to the problem [1,5 valor]"
      ]
    },
    {
      "cell_type": "markdown",
      "id": "87a15554",
      "metadata": {
        "id": "87a15554"
      },
      "source": [
        "<br><br>\n",
        "\n",
        "## 8. Analysis of Example 1 [3,0 valor]"
      ]
    },
    {
      "cell_type": "markdown",
      "id": "a0f7810c",
      "metadata": {
        "id": "a0f7810c"
      },
      "source": [
        "<br><br>\n",
        "\n",
        "## 9. Analysis of Example 2 [3,0 valor]"
      ]
    },
    {
      "cell_type": "markdown",
      "id": "1e821172",
      "metadata": {
        "id": "1e821172"
      },
      "source": [
        "<br><br>\n",
        "## 10. Pros and cons of the approach [2,0 valor]"
      ]
    },
    {
      "cell_type": "markdown",
      "source": [
        "**Pros of Using Fuzzy Logic for CWB Analysis**\n",
        "\n",
        "**Captures the Nuances of Socio-Economic Data:** Socio-economic indicators often exist on a spectrum rather than as fixed values. Fuzzy logic allows for this granularity by assigning partial memberships to categories, capturing the subtleties and complexities of community data better than binary classifications.\n",
        "\n",
        "**Improves Decision-Making for Policy:** By providing results that account for the degrees of need (e.g., slight vs. severe housing issues), fuzzy logic helps policymakers prioritize resources and design interventions tailored to varying degrees of socio-economic conditions across communities.\n",
        "\n",
        "**Aligns with Human Reasoning:** Fuzzy logic’s rule-based system, such as \"IF income is low AND education is high, THEN housing may be moderate,\" mirrors natural human reasoning, making the system more interpretable to decision-makers who are accustomed to working with qualitative assessments.\n",
        "\n",
        "**Reduces Data Quality Requirements:** Socio-economic data can often be incomplete or inconsistently recorded. Fuzzy logic's tolerance for vague or imprecise data can be advantageous, as it provides insights even when data quality or completeness is suboptimal.\n",
        "\n",
        "**Easily Adjustable Rules and Membership Functions:** As new information or insights are gained, fuzzy logic systems can be easily adjusted by modifying rules or membership functions. This adaptability is useful in evolving fields like socio-economic analysis, where changing societal conditions may influence the relationships between variables.\n",
        "\n",
        "**Cons of Using Fuzzy Logic for CWB Analysis**\n",
        "\n",
        "**Complex Rule and Membership Function Setup:** Designing a comprehensive set of rules and membership functions that accurately reflect real-world socio-economic relationships requires expertise and time. This setup phase can be challenging, especially for complex systems with many interacting factors.\n",
        "\n",
        "**Difficulty in Quantifying Fuzzy Outputs:** While fuzzy logic provides nuanced results, the final defuzzified (crisp) value may not fully capture the richness of the fuzzy set memberships, leading to potential oversimplification of results, especially in nuanced areas like socio-economic well-being.\n",
        "\n",
        "**Sensitivity to Subjective Design Choices:** The accuracy of the fuzzy logic model heavily depends on the chosen membership functions and rule definitions, which are often based on expert opinions or assumptions. This subjectivity may introduce bias or limit the model's generalizability to other datasets or regions.\n",
        "\n",
        "**Limited Scalability in Large Datasets:** Fuzzy logic systems are inherently rule-based, which can lead to scalability issues in large datasets with many variables or diverse categories. This can limit fuzzy logic's practicality for extensive national databases without simplifying the model.\n",
        "\n",
        "**Challenges in Real-Time Processing:** Fuzzy systems that involve complex rule evaluations and defuzzification can struggle with real-time analysis, especially if dynamic data updates are required. This limits its use in scenarios where real-time socio-economic monitoring and rapid decision-making are needed."
      ],
      "metadata": {
        "id": "nxpBmUQxmd98"
      },
      "id": "nxpBmUQxmd98"
    },
    {
      "cell_type": "markdown",
      "id": "60974d68",
      "metadata": {
        "id": "60974d68"
      },
      "source": [
        "<br><br>\n",
        "## 11. Future improvements [2,0 valor]"
      ]
    },
    {
      "cell_type": "markdown",
      "source": [
        "**Future improvements for this approach may involve:**\n",
        "\n",
        "**Integrating Machine Learning:** Combining fuzzy logic with machine learning models could improve the accuracy and adaptability of the system, especially for dynamic or large-scale datasets.\n",
        "**Enhanced Rule Optimization:** Developing automated methods to optimize and refine fuzzy rules could help reduce subjectivity and increase scalability.\n",
        "**Expanding Components:** Incorporating additional indicators (e.g., health, access to services) within the CWB framework could offer a more holistic view of community well-being.\n",
        "\n",
        "**Real Time Analysis:**With further development, the system could provide real-time socio-economic assessments by dynamically adjusting fuzzy rules and membership functions as new data is available."
      ],
      "metadata": {
        "id": "QrfEO8PImihF"
      },
      "id": "QrfEO8PImihF"
    },
    {
      "cell_type": "markdown",
      "id": "04b1eb04",
      "metadata": {
        "id": "04b1eb04"
      },
      "source": [
        "<br>\n",
        "<div style=\"text-align: center;\">\n",
        "    <br><br>\n",
        "    <p style=\"font-size: 40px;\">References [1,0 valor]</p>\n",
        "</div>\n",
        "<br>\n"
      ]
    },
    {
      "cell_type": "markdown",
      "source": [
        "Cooke, Martin. The first nations community well-being index (CWB): a conceptual review. Strategic Research and Analysis Directorate, Indian and Northern Affairs Canada, 2005."
      ],
      "metadata": {
        "id": "gF4gvHxHnMcW"
      },
      "id": "gF4gvHxHnMcW"
    },
    {
      "cell_type": "markdown",
      "source": [
        "Noll, Heinz-Herbert. \"Social indicators and quality of life research: Background, achievements and current trends.\" Advances in sociological knowledge: Over half a century. Wiesbaden: VS Verlag für Sozialwissenschaften, 2004. 151-181."
      ],
      "metadata": {
        "id": "XLlzHks1nbpz"
      },
      "id": "XLlzHks1nbpz"
    },
    {
      "cell_type": "markdown",
      "source": [
        "Brose, Dominic A., ed. \"Developing a framework for measuring community resilience: Summary of a workshop.\" (2015).\n"
      ],
      "metadata": {
        "id": "XlIP9K8Bnopt"
      },
      "id": "XlIP9K8Bnopt"
    }
  ],
  "metadata": {
    "kernelspec": {
      "display_name": "Python 3 (ipykernel)",
      "language": "python",
      "name": "python3"
    },
    "language_info": {
      "codemirror_mode": {
        "name": "ipython",
        "version": 3
      },
      "file_extension": ".py",
      "mimetype": "text/x-python",
      "name": "python",
      "nbconvert_exporter": "python",
      "pygments_lexer": "ipython3",
      "version": "3.11.7"
    },
    "colab": {
      "provenance": []
    }
  },
  "nbformat": 4,
  "nbformat_minor": 5
}